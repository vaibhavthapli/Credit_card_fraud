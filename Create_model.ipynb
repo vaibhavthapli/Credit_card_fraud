{
 "cells": [
  {
   "cell_type": "code",
   "execution_count": 1,
   "metadata": {},
   "outputs": [],
   "source": [
    "import numpy as np\n",
    "import pandas as pd\n",
    "import keras\n",
    "import matplotlib.pyplot as plt\n",
    "from sklearn.utils import shuffle\n",
    "import seaborn as sns\n",
    "from sklearn.model_selection import train_test_split\n",
    "from sklearn.preprocessing import StandardScaler"
   ]
  },
  {
   "cell_type": "code",
   "execution_count": 2,
   "metadata": {},
   "outputs": [
    {
     "data": {
      "text/html": [
       "<div>\n",
       "<style scoped>\n",
       "    .dataframe tbody tr th:only-of-type {\n",
       "        vertical-align: middle;\n",
       "    }\n",
       "\n",
       "    .dataframe tbody tr th {\n",
       "        vertical-align: top;\n",
       "    }\n",
       "\n",
       "    .dataframe thead th {\n",
       "        text-align: right;\n",
       "    }\n",
       "</style>\n",
       "<table border=\"1\" class=\"dataframe\">\n",
       "  <thead>\n",
       "    <tr style=\"text-align: right;\">\n",
       "      <th></th>\n",
       "      <th>Time</th>\n",
       "      <th>V1</th>\n",
       "      <th>V2</th>\n",
       "      <th>V3</th>\n",
       "      <th>V4</th>\n",
       "      <th>V5</th>\n",
       "      <th>V6</th>\n",
       "      <th>V7</th>\n",
       "      <th>V8</th>\n",
       "      <th>V9</th>\n",
       "      <th>...</th>\n",
       "      <th>V21</th>\n",
       "      <th>V22</th>\n",
       "      <th>V23</th>\n",
       "      <th>V24</th>\n",
       "      <th>V25</th>\n",
       "      <th>V26</th>\n",
       "      <th>V27</th>\n",
       "      <th>V28</th>\n",
       "      <th>Amount</th>\n",
       "      <th>Class</th>\n",
       "    </tr>\n",
       "  </thead>\n",
       "  <tbody>\n",
       "    <tr>\n",
       "      <th>0</th>\n",
       "      <td>115966.0</td>\n",
       "      <td>-2.163081</td>\n",
       "      <td>1.711095</td>\n",
       "      <td>-0.525640</td>\n",
       "      <td>0.194081</td>\n",
       "      <td>-1.029697</td>\n",
       "      <td>0.136284</td>\n",
       "      <td>-1.357683</td>\n",
       "      <td>1.879366</td>\n",
       "      <td>-0.597058</td>\n",
       "      <td>...</td>\n",
       "      <td>0.452132</td>\n",
       "      <td>0.806195</td>\n",
       "      <td>-0.021418</td>\n",
       "      <td>0.678795</td>\n",
       "      <td>-0.258603</td>\n",
       "      <td>0.712588</td>\n",
       "      <td>-0.713277</td>\n",
       "      <td>-0.182202</td>\n",
       "      <td>6.79</td>\n",
       "      <td>0</td>\n",
       "    </tr>\n",
       "    <tr>\n",
       "      <th>1</th>\n",
       "      <td>131891.0</td>\n",
       "      <td>1.804736</td>\n",
       "      <td>-1.271865</td>\n",
       "      <td>-2.956493</td>\n",
       "      <td>-0.353553</td>\n",
       "      <td>0.130945</td>\n",
       "      <td>-1.199074</td>\n",
       "      <td>0.740902</td>\n",
       "      <td>-0.554545</td>\n",
       "      <td>-0.900114</td>\n",
       "      <td>...</td>\n",
       "      <td>-0.000194</td>\n",
       "      <td>-0.045037</td>\n",
       "      <td>-0.290662</td>\n",
       "      <td>0.508793</td>\n",
       "      <td>0.410006</td>\n",
       "      <td>0.982054</td>\n",
       "      <td>-0.186231</td>\n",
       "      <td>-0.048551</td>\n",
       "      <td>258.40</td>\n",
       "      <td>0</td>\n",
       "    </tr>\n",
       "    <tr>\n",
       "      <th>2</th>\n",
       "      <td>136997.0</td>\n",
       "      <td>1.963918</td>\n",
       "      <td>-0.131719</td>\n",
       "      <td>-0.888165</td>\n",
       "      <td>0.259542</td>\n",
       "      <td>-0.001108</td>\n",
       "      <td>-0.498022</td>\n",
       "      <td>-0.042393</td>\n",
       "      <td>-0.097297</td>\n",
       "      <td>0.176875</td>\n",
       "      <td>...</td>\n",
       "      <td>-0.394307</td>\n",
       "      <td>-1.202584</td>\n",
       "      <td>0.456352</td>\n",
       "      <td>-0.517482</td>\n",
       "      <td>-0.640613</td>\n",
       "      <td>-0.268896</td>\n",
       "      <td>-0.047348</td>\n",
       "      <td>-0.052698</td>\n",
       "      <td>29.00</td>\n",
       "      <td>0</td>\n",
       "    </tr>\n",
       "    <tr>\n",
       "      <th>3</th>\n",
       "      <td>152773.0</td>\n",
       "      <td>-0.190464</td>\n",
       "      <td>1.021640</td>\n",
       "      <td>-0.804140</td>\n",
       "      <td>-0.132867</td>\n",
       "      <td>0.385977</td>\n",
       "      <td>-1.142098</td>\n",
       "      <td>0.469435</td>\n",
       "      <td>0.331246</td>\n",
       "      <td>-0.393996</td>\n",
       "      <td>...</td>\n",
       "      <td>0.410755</td>\n",
       "      <td>1.062838</td>\n",
       "      <td>-0.117616</td>\n",
       "      <td>-0.082971</td>\n",
       "      <td>-0.454951</td>\n",
       "      <td>-0.171760</td>\n",
       "      <td>0.012971</td>\n",
       "      <td>0.041254</td>\n",
       "      <td>14.18</td>\n",
       "      <td>0</td>\n",
       "    </tr>\n",
       "    <tr>\n",
       "      <th>4</th>\n",
       "      <td>150005.0</td>\n",
       "      <td>2.008214</td>\n",
       "      <td>-0.280217</td>\n",
       "      <td>-0.465804</td>\n",
       "      <td>0.308430</td>\n",
       "      <td>-0.353631</td>\n",
       "      <td>-0.178018</td>\n",
       "      <td>-0.527558</td>\n",
       "      <td>0.035737</td>\n",
       "      <td>1.260708</td>\n",
       "      <td>...</td>\n",
       "      <td>-0.191681</td>\n",
       "      <td>-0.409743</td>\n",
       "      <td>0.404496</td>\n",
       "      <td>0.559148</td>\n",
       "      <td>-0.401731</td>\n",
       "      <td>-0.644915</td>\n",
       "      <td>0.035181</td>\n",
       "      <td>-0.026480</td>\n",
       "      <td>0.12</td>\n",
       "      <td>0</td>\n",
       "    </tr>\n",
       "  </tbody>\n",
       "</table>\n",
       "<p>5 rows × 31 columns</p>\n",
       "</div>"
      ],
      "text/plain": [
       "       Time        V1        V2        V3        V4        V5        V6  \\\n",
       "0  115966.0 -2.163081  1.711095 -0.525640  0.194081 -1.029697  0.136284   \n",
       "1  131891.0  1.804736 -1.271865 -2.956493 -0.353553  0.130945 -1.199074   \n",
       "2  136997.0  1.963918 -0.131719 -0.888165  0.259542 -0.001108 -0.498022   \n",
       "3  152773.0 -0.190464  1.021640 -0.804140 -0.132867  0.385977 -1.142098   \n",
       "4  150005.0  2.008214 -0.280217 -0.465804  0.308430 -0.353631 -0.178018   \n",
       "\n",
       "         V7        V8        V9  ...       V21       V22       V23       V24  \\\n",
       "0 -1.357683  1.879366 -0.597058  ...  0.452132  0.806195 -0.021418  0.678795   \n",
       "1  0.740902 -0.554545 -0.900114  ... -0.000194 -0.045037 -0.290662  0.508793   \n",
       "2 -0.042393 -0.097297  0.176875  ... -0.394307 -1.202584  0.456352 -0.517482   \n",
       "3  0.469435  0.331246 -0.393996  ...  0.410755  1.062838 -0.117616 -0.082971   \n",
       "4 -0.527558  0.035737  1.260708  ... -0.191681 -0.409743  0.404496  0.559148   \n",
       "\n",
       "        V25       V26       V27       V28  Amount  Class  \n",
       "0 -0.258603  0.712588 -0.713277 -0.182202    6.79      0  \n",
       "1  0.410006  0.982054 -0.186231 -0.048551  258.40      0  \n",
       "2 -0.640613 -0.268896 -0.047348 -0.052698   29.00      0  \n",
       "3 -0.454951 -0.171760  0.012971  0.041254   14.18      0  \n",
       "4 -0.401731 -0.644915  0.035181 -0.026480    0.12      0  \n",
       "\n",
       "[5 rows x 31 columns]"
      ]
     },
     "execution_count": 2,
     "metadata": {},
     "output_type": "execute_result"
    }
   ],
   "source": [
    "df = pd.read_csv(\"credit.csv\")\n",
    "df.head()"
   ]
  },
  {
   "cell_type": "markdown",
   "metadata": {},
   "source": [
    "# Train and Test split"
   ]
  },
  {
   "cell_type": "code",
   "execution_count": 3,
   "metadata": {},
   "outputs": [],
   "source": [
    "X= df.drop(\"Class\",axis=\"columns\")\n",
    "Y=df[\"Class\"]"
   ]
  },
  {
   "cell_type": "code",
   "execution_count": 4,
   "metadata": {},
   "outputs": [],
   "source": [
    "X_train, X_test, Y_train, Y_test = train_test_split(X, Y, test_size=0.2, random_state=5)"
   ]
  },
  {
   "cell_type": "code",
   "execution_count": 5,
   "metadata": {},
   "outputs": [
    {
     "name": "stdout",
     "output_type": "stream",
     "text": [
      "(226971, 30)\n",
      "(56743, 30)\n",
      "(226971,)\n",
      "(56743,)\n"
     ]
    }
   ],
   "source": [
    "print(X_train.shape)\n",
    "print(X_test.shape)\n",
    "print(Y_train.shape)\n",
    "print(Y_test.shape)"
   ]
  },
  {
   "cell_type": "markdown",
   "metadata": {},
   "source": [
    "Always check before built a model is your training dataset is balanced or not."
   ]
  },
  {
   "cell_type": "code",
   "execution_count": 6,
   "metadata": {},
   "outputs": [
    {
     "data": {
      "text/plain": [
       "0    226592\n",
       "1       379\n",
       "Name: Class, dtype: int64"
      ]
     },
     "execution_count": 6,
     "metadata": {},
     "output_type": "execute_result"
    }
   ],
   "source": [
    "Y_train.value_counts()"
   ]
  },
  {
   "cell_type": "markdown",
   "metadata": {},
   "source": [
    "Look's like our traninig dataset is imbalanced so first we need to balanced that."
   ]
  },
  {
   "cell_type": "markdown",
   "metadata": {},
   "source": [
    "***We use OverSampling to solve imbalanced traning data***"
   ]
  },
  {
   "cell_type": "code",
   "execution_count": 7,
   "metadata": {},
   "outputs": [],
   "source": [
    "from imblearn import over_sampling\n",
    "from imblearn.over_sampling import SMOTE"
   ]
  },
  {
   "cell_type": "code",
   "execution_count": 8,
   "metadata": {},
   "outputs": [],
   "source": [
    "sm = SMOTE(random_state=12)\n",
    "X_train, Y_train = sm.fit_sample(X_train,Y_train)"
   ]
  },
  {
   "cell_type": "code",
   "execution_count": 9,
   "metadata": {},
   "outputs": [
    {
     "name": "stdout",
     "output_type": "stream",
     "text": [
      "(453184, 30)\n",
      "(453184,)\n"
     ]
    }
   ],
   "source": [
    "print(X_train.shape)\n",
    "print(Y_train.shape)"
   ]
  },
  {
   "cell_type": "code",
   "execution_count": 10,
   "metadata": {},
   "outputs": [
    {
     "data": {
      "text/plain": [
       "1    226592\n",
       "0    226592\n",
       "Name: Class, dtype: int64"
      ]
     },
     "execution_count": 10,
     "metadata": {},
     "output_type": "execute_result"
    }
   ],
   "source": [
    "Y_train.value_counts()"
   ]
  },
  {
   "cell_type": "markdown",
   "metadata": {},
   "source": [
    "**Now our training data is balanced**"
   ]
  },
  {
   "cell_type": "code",
   "execution_count": 11,
   "metadata": {},
   "outputs": [
    {
     "data": {
      "text/plain": [
       "Time      157778.000000\n",
       "V1            -0.102318\n",
       "V2             0.355017\n",
       "V3             1.472947\n",
       "V4            -0.267198\n",
       "V5             0.432963\n",
       "V6             0.864004\n",
       "V7             0.170404\n",
       "V8             0.089408\n",
       "V9             0.068169\n",
       "V10           -0.138768\n",
       "V11            0.390472\n",
       "V12            0.544438\n",
       "V13            0.521065\n",
       "V14           -0.399394\n",
       "V15           -0.007097\n",
       "V16            0.041325\n",
       "V17           -0.646902\n",
       "V18            0.810754\n",
       "V19            1.173219\n",
       "V20            0.202743\n",
       "V21            0.231805\n",
       "V22            0.980056\n",
       "V23           -0.252268\n",
       "V24            0.304315\n",
       "V25           -0.513289\n",
       "V26            0.658487\n",
       "V27           -0.008806\n",
       "V28           -0.060263\n",
       "Amount        11.500000\n",
       "Name: 0, dtype: float64"
      ]
     },
     "execution_count": 11,
     "metadata": {},
     "output_type": "execute_result"
    }
   ],
   "source": [
    "X_train.loc[0]"
   ]
  },
  {
   "cell_type": "code",
   "execution_count": 12,
   "metadata": {},
   "outputs": [
    {
     "data": {
      "text/plain": [
       "0"
      ]
     },
     "execution_count": 12,
     "metadata": {},
     "output_type": "execute_result"
    }
   ],
   "source": [
    "Y_train.loc[0]"
   ]
  },
  {
   "cell_type": "code",
   "execution_count": 13,
   "metadata": {},
   "outputs": [],
   "source": [
    "#we have to shuffle our data once again.\n",
    "# for that we have to join our X_train and Y_train together\n",
    "concatenat = pd.concat([X_train, Y_train], axis=1)"
   ]
  },
  {
   "cell_type": "code",
   "execution_count": 14,
   "metadata": {},
   "outputs": [
    {
     "data": {
      "text/html": [
       "<div>\n",
       "<style scoped>\n",
       "    .dataframe tbody tr th:only-of-type {\n",
       "        vertical-align: middle;\n",
       "    }\n",
       "\n",
       "    .dataframe tbody tr th {\n",
       "        vertical-align: top;\n",
       "    }\n",
       "\n",
       "    .dataframe thead th {\n",
       "        text-align: right;\n",
       "    }\n",
       "</style>\n",
       "<table border=\"1\" class=\"dataframe\">\n",
       "  <thead>\n",
       "    <tr style=\"text-align: right;\">\n",
       "      <th></th>\n",
       "      <th>Time</th>\n",
       "      <th>V1</th>\n",
       "      <th>V2</th>\n",
       "      <th>V3</th>\n",
       "      <th>V4</th>\n",
       "      <th>V5</th>\n",
       "      <th>V6</th>\n",
       "      <th>V7</th>\n",
       "      <th>V8</th>\n",
       "      <th>V9</th>\n",
       "      <th>...</th>\n",
       "      <th>V21</th>\n",
       "      <th>V22</th>\n",
       "      <th>V23</th>\n",
       "      <th>V24</th>\n",
       "      <th>V25</th>\n",
       "      <th>V26</th>\n",
       "      <th>V27</th>\n",
       "      <th>V28</th>\n",
       "      <th>Amount</th>\n",
       "      <th>Class</th>\n",
       "    </tr>\n",
       "  </thead>\n",
       "  <tbody>\n",
       "    <tr>\n",
       "      <th>0</th>\n",
       "      <td>157778.000000</td>\n",
       "      <td>-0.102318</td>\n",
       "      <td>0.355017</td>\n",
       "      <td>1.472947</td>\n",
       "      <td>-0.267198</td>\n",
       "      <td>0.432963</td>\n",
       "      <td>0.864004</td>\n",
       "      <td>0.170404</td>\n",
       "      <td>0.089408</td>\n",
       "      <td>0.068169</td>\n",
       "      <td>...</td>\n",
       "      <td>0.231805</td>\n",
       "      <td>0.980056</td>\n",
       "      <td>-0.252268</td>\n",
       "      <td>0.304315</td>\n",
       "      <td>-0.513289</td>\n",
       "      <td>0.658487</td>\n",
       "      <td>-0.008806</td>\n",
       "      <td>-0.060263</td>\n",
       "      <td>11.500000</td>\n",
       "      <td>0</td>\n",
       "    </tr>\n",
       "    <tr>\n",
       "      <th>1</th>\n",
       "      <td>70900.000000</td>\n",
       "      <td>1.233013</td>\n",
       "      <td>-0.520422</td>\n",
       "      <td>0.033394</td>\n",
       "      <td>-0.706597</td>\n",
       "      <td>-0.602408</td>\n",
       "      <td>-0.137798</td>\n",
       "      <td>-0.704692</td>\n",
       "      <td>0.100175</td>\n",
       "      <td>-1.011925</td>\n",
       "      <td>...</td>\n",
       "      <td>0.137506</td>\n",
       "      <td>0.221700</td>\n",
       "      <td>-0.070302</td>\n",
       "      <td>-0.372932</td>\n",
       "      <td>0.295588</td>\n",
       "      <td>-0.256301</td>\n",
       "      <td>0.033671</td>\n",
       "      <td>0.037965</td>\n",
       "      <td>59.900000</td>\n",
       "      <td>0</td>\n",
       "    </tr>\n",
       "    <tr>\n",
       "      <th>2</th>\n",
       "      <td>77381.000000</td>\n",
       "      <td>1.207151</td>\n",
       "      <td>-0.214659</td>\n",
       "      <td>0.873963</td>\n",
       "      <td>0.614853</td>\n",
       "      <td>-0.495640</td>\n",
       "      <td>0.637324</td>\n",
       "      <td>-0.726961</td>\n",
       "      <td>0.265679</td>\n",
       "      <td>0.986651</td>\n",
       "      <td>...</td>\n",
       "      <td>-0.122415</td>\n",
       "      <td>-0.107237</td>\n",
       "      <td>-0.038538</td>\n",
       "      <td>-0.731636</td>\n",
       "      <td>0.294839</td>\n",
       "      <td>0.399316</td>\n",
       "      <td>0.033279</td>\n",
       "      <td>0.014372</td>\n",
       "      <td>3.770000</td>\n",
       "      <td>0</td>\n",
       "    </tr>\n",
       "    <tr>\n",
       "      <th>3</th>\n",
       "      <td>122802.000000</td>\n",
       "      <td>-0.236398</td>\n",
       "      <td>0.948039</td>\n",
       "      <td>1.184713</td>\n",
       "      <td>4.737655</td>\n",
       "      <td>0.979416</td>\n",
       "      <td>0.185857</td>\n",
       "      <td>0.408900</td>\n",
       "      <td>-0.027505</td>\n",
       "      <td>-1.871850</td>\n",
       "      <td>...</td>\n",
       "      <td>0.255983</td>\n",
       "      <td>0.854751</td>\n",
       "      <td>-0.057445</td>\n",
       "      <td>0.093801</td>\n",
       "      <td>-0.528897</td>\n",
       "      <td>0.459252</td>\n",
       "      <td>0.216245</td>\n",
       "      <td>0.220738</td>\n",
       "      <td>22.720000</td>\n",
       "      <td>0</td>\n",
       "    </tr>\n",
       "    <tr>\n",
       "      <th>4</th>\n",
       "      <td>33619.000000</td>\n",
       "      <td>1.163253</td>\n",
       "      <td>-0.014139</td>\n",
       "      <td>1.272299</td>\n",
       "      <td>1.420947</td>\n",
       "      <td>-0.926893</td>\n",
       "      <td>-0.121972</td>\n",
       "      <td>-0.519157</td>\n",
       "      <td>0.093523</td>\n",
       "      <td>0.977292</td>\n",
       "      <td>...</td>\n",
       "      <td>-0.180902</td>\n",
       "      <td>-0.219039</td>\n",
       "      <td>0.020564</td>\n",
       "      <td>0.398989</td>\n",
       "      <td>0.448507</td>\n",
       "      <td>-0.456745</td>\n",
       "      <td>0.075666</td>\n",
       "      <td>0.035279</td>\n",
       "      <td>1.000000</td>\n",
       "      <td>0</td>\n",
       "    </tr>\n",
       "    <tr>\n",
       "      <th>...</th>\n",
       "      <td>...</td>\n",
       "      <td>...</td>\n",
       "      <td>...</td>\n",
       "      <td>...</td>\n",
       "      <td>...</td>\n",
       "      <td>...</td>\n",
       "      <td>...</td>\n",
       "      <td>...</td>\n",
       "      <td>...</td>\n",
       "      <td>...</td>\n",
       "      <td>...</td>\n",
       "      <td>...</td>\n",
       "      <td>...</td>\n",
       "      <td>...</td>\n",
       "      <td>...</td>\n",
       "      <td>...</td>\n",
       "      <td>...</td>\n",
       "      <td>...</td>\n",
       "      <td>...</td>\n",
       "      <td>...</td>\n",
       "      <td>...</td>\n",
       "    </tr>\n",
       "    <tr>\n",
       "      <th>453179</th>\n",
       "      <td>62144.419722</td>\n",
       "      <td>-2.222882</td>\n",
       "      <td>2.126074</td>\n",
       "      <td>-3.128421</td>\n",
       "      <td>3.442500</td>\n",
       "      <td>-3.348853</td>\n",
       "      <td>0.193943</td>\n",
       "      <td>-1.683957</td>\n",
       "      <td>1.090650</td>\n",
       "      <td>-2.164823</td>\n",
       "      <td>...</td>\n",
       "      <td>0.598526</td>\n",
       "      <td>0.376840</td>\n",
       "      <td>-0.243781</td>\n",
       "      <td>-0.433650</td>\n",
       "      <td>-0.107804</td>\n",
       "      <td>0.029476</td>\n",
       "      <td>0.522232</td>\n",
       "      <td>-0.073007</td>\n",
       "      <td>383.439813</td>\n",
       "      <td>1</td>\n",
       "    </tr>\n",
       "    <tr>\n",
       "      <th>453180</th>\n",
       "      <td>20534.941595</td>\n",
       "      <td>-15.660487</td>\n",
       "      <td>8.643150</td>\n",
       "      <td>-22.668659</td>\n",
       "      <td>11.871206</td>\n",
       "      <td>-8.982762</td>\n",
       "      <td>-2.369684</td>\n",
       "      <td>-16.455173</td>\n",
       "      <td>0.821834</td>\n",
       "      <td>-6.317482</td>\n",
       "      <td>...</td>\n",
       "      <td>-2.351712</td>\n",
       "      <td>1.045480</td>\n",
       "      <td>1.123201</td>\n",
       "      <td>-1.042524</td>\n",
       "      <td>-0.129940</td>\n",
       "      <td>0.655189</td>\n",
       "      <td>2.139298</td>\n",
       "      <td>-1.410086</td>\n",
       "      <td>1.000000</td>\n",
       "      <td>1</td>\n",
       "    </tr>\n",
       "    <tr>\n",
       "      <th>453181</th>\n",
       "      <td>168034.589157</td>\n",
       "      <td>-2.444340</td>\n",
       "      <td>-0.472410</td>\n",
       "      <td>-2.772435</td>\n",
       "      <td>1.367274</td>\n",
       "      <td>-0.329228</td>\n",
       "      <td>-0.868994</td>\n",
       "      <td>1.487789</td>\n",
       "      <td>-0.305470</td>\n",
       "      <td>-0.665766</td>\n",
       "      <td>...</td>\n",
       "      <td>0.029802</td>\n",
       "      <td>0.251212</td>\n",
       "      <td>0.127289</td>\n",
       "      <td>0.395556</td>\n",
       "      <td>-0.213896</td>\n",
       "      <td>-0.138659</td>\n",
       "      <td>0.653129</td>\n",
       "      <td>-0.153862</td>\n",
       "      <td>484.839949</td>\n",
       "      <td>1</td>\n",
       "    </tr>\n",
       "    <tr>\n",
       "      <th>453182</th>\n",
       "      <td>142739.472988</td>\n",
       "      <td>-0.371175</td>\n",
       "      <td>1.806046</td>\n",
       "      <td>-3.325165</td>\n",
       "      <td>3.566761</td>\n",
       "      <td>2.411063</td>\n",
       "      <td>-2.413755</td>\n",
       "      <td>-4.524892</td>\n",
       "      <td>-1.235140</td>\n",
       "      <td>-1.439346</td>\n",
       "      <td>...</td>\n",
       "      <td>-0.426735</td>\n",
       "      <td>-0.252472</td>\n",
       "      <td>-3.902142</td>\n",
       "      <td>0.332871</td>\n",
       "      <td>-0.973055</td>\n",
       "      <td>-0.372891</td>\n",
       "      <td>0.710206</td>\n",
       "      <td>0.412249</td>\n",
       "      <td>1.650293</td>\n",
       "      <td>1</td>\n",
       "    </tr>\n",
       "    <tr>\n",
       "      <th>453183</th>\n",
       "      <td>69663.094314</td>\n",
       "      <td>0.512203</td>\n",
       "      <td>1.135434</td>\n",
       "      <td>-2.143976</td>\n",
       "      <td>2.501154</td>\n",
       "      <td>-0.433225</td>\n",
       "      <td>-1.337947</td>\n",
       "      <td>-1.070323</td>\n",
       "      <td>0.326413</td>\n",
       "      <td>-0.695457</td>\n",
       "      <td>...</td>\n",
       "      <td>0.082543</td>\n",
       "      <td>-0.646759</td>\n",
       "      <td>-0.233314</td>\n",
       "      <td>0.027378</td>\n",
       "      <td>0.643754</td>\n",
       "      <td>-0.337702</td>\n",
       "      <td>0.348758</td>\n",
       "      <td>0.251188</td>\n",
       "      <td>90.949842</td>\n",
       "      <td>1</td>\n",
       "    </tr>\n",
       "  </tbody>\n",
       "</table>\n",
       "<p>453184 rows × 31 columns</p>\n",
       "</div>"
      ],
      "text/plain": [
       "                 Time         V1        V2         V3         V4        V5  \\\n",
       "0       157778.000000  -0.102318  0.355017   1.472947  -0.267198  0.432963   \n",
       "1        70900.000000   1.233013 -0.520422   0.033394  -0.706597 -0.602408   \n",
       "2        77381.000000   1.207151 -0.214659   0.873963   0.614853 -0.495640   \n",
       "3       122802.000000  -0.236398  0.948039   1.184713   4.737655  0.979416   \n",
       "4        33619.000000   1.163253 -0.014139   1.272299   1.420947 -0.926893   \n",
       "...               ...        ...       ...        ...        ...       ...   \n",
       "453179   62144.419722  -2.222882  2.126074  -3.128421   3.442500 -3.348853   \n",
       "453180   20534.941595 -15.660487  8.643150 -22.668659  11.871206 -8.982762   \n",
       "453181  168034.589157  -2.444340 -0.472410  -2.772435   1.367274 -0.329228   \n",
       "453182  142739.472988  -0.371175  1.806046  -3.325165   3.566761  2.411063   \n",
       "453183   69663.094314   0.512203  1.135434  -2.143976   2.501154 -0.433225   \n",
       "\n",
       "              V6         V7        V8        V9  ...       V21       V22  \\\n",
       "0       0.864004   0.170404  0.089408  0.068169  ...  0.231805  0.980056   \n",
       "1      -0.137798  -0.704692  0.100175 -1.011925  ...  0.137506  0.221700   \n",
       "2       0.637324  -0.726961  0.265679  0.986651  ... -0.122415 -0.107237   \n",
       "3       0.185857   0.408900 -0.027505 -1.871850  ...  0.255983  0.854751   \n",
       "4      -0.121972  -0.519157  0.093523  0.977292  ... -0.180902 -0.219039   \n",
       "...          ...        ...       ...       ...  ...       ...       ...   \n",
       "453179  0.193943  -1.683957  1.090650 -2.164823  ...  0.598526  0.376840   \n",
       "453180 -2.369684 -16.455173  0.821834 -6.317482  ... -2.351712  1.045480   \n",
       "453181 -0.868994   1.487789 -0.305470 -0.665766  ...  0.029802  0.251212   \n",
       "453182 -2.413755  -4.524892 -1.235140 -1.439346  ... -0.426735 -0.252472   \n",
       "453183 -1.337947  -1.070323  0.326413 -0.695457  ...  0.082543 -0.646759   \n",
       "\n",
       "             V23       V24       V25       V26       V27       V28  \\\n",
       "0      -0.252268  0.304315 -0.513289  0.658487 -0.008806 -0.060263   \n",
       "1      -0.070302 -0.372932  0.295588 -0.256301  0.033671  0.037965   \n",
       "2      -0.038538 -0.731636  0.294839  0.399316  0.033279  0.014372   \n",
       "3      -0.057445  0.093801 -0.528897  0.459252  0.216245  0.220738   \n",
       "4       0.020564  0.398989  0.448507 -0.456745  0.075666  0.035279   \n",
       "...          ...       ...       ...       ...       ...       ...   \n",
       "453179 -0.243781 -0.433650 -0.107804  0.029476  0.522232 -0.073007   \n",
       "453180  1.123201 -1.042524 -0.129940  0.655189  2.139298 -1.410086   \n",
       "453181  0.127289  0.395556 -0.213896 -0.138659  0.653129 -0.153862   \n",
       "453182 -3.902142  0.332871 -0.973055 -0.372891  0.710206  0.412249   \n",
       "453183 -0.233314  0.027378  0.643754 -0.337702  0.348758  0.251188   \n",
       "\n",
       "            Amount  Class  \n",
       "0        11.500000      0  \n",
       "1        59.900000      0  \n",
       "2         3.770000      0  \n",
       "3        22.720000      0  \n",
       "4         1.000000      0  \n",
       "...            ...    ...  \n",
       "453179  383.439813      1  \n",
       "453180    1.000000      1  \n",
       "453181  484.839949      1  \n",
       "453182    1.650293      1  \n",
       "453183   90.949842      1  \n",
       "\n",
       "[453184 rows x 31 columns]"
      ]
     },
     "execution_count": 14,
     "metadata": {},
     "output_type": "execute_result"
    }
   ],
   "source": [
    "concatenat"
   ]
  },
  {
   "cell_type": "code",
   "execution_count": 15,
   "metadata": {},
   "outputs": [
    {
     "data": {
      "text/html": [
       "<div>\n",
       "<style scoped>\n",
       "    .dataframe tbody tr th:only-of-type {\n",
       "        vertical-align: middle;\n",
       "    }\n",
       "\n",
       "    .dataframe tbody tr th {\n",
       "        vertical-align: top;\n",
       "    }\n",
       "\n",
       "    .dataframe thead th {\n",
       "        text-align: right;\n",
       "    }\n",
       "</style>\n",
       "<table border=\"1\" class=\"dataframe\">\n",
       "  <thead>\n",
       "    <tr style=\"text-align: right;\">\n",
       "      <th></th>\n",
       "      <th>Time</th>\n",
       "      <th>V1</th>\n",
       "      <th>V2</th>\n",
       "      <th>V3</th>\n",
       "      <th>V4</th>\n",
       "      <th>V5</th>\n",
       "      <th>V6</th>\n",
       "      <th>V7</th>\n",
       "      <th>V8</th>\n",
       "      <th>V9</th>\n",
       "      <th>...</th>\n",
       "      <th>V21</th>\n",
       "      <th>V22</th>\n",
       "      <th>V23</th>\n",
       "      <th>V24</th>\n",
       "      <th>V25</th>\n",
       "      <th>V26</th>\n",
       "      <th>V27</th>\n",
       "      <th>V28</th>\n",
       "      <th>Amount</th>\n",
       "      <th>Class</th>\n",
       "    </tr>\n",
       "  </thead>\n",
       "  <tbody>\n",
       "    <tr>\n",
       "      <th>23056</th>\n",
       "      <td>78450.000000</td>\n",
       "      <td>1.345902</td>\n",
       "      <td>-0.727354</td>\n",
       "      <td>-0.055258</td>\n",
       "      <td>-0.801420</td>\n",
       "      <td>-0.394547</td>\n",
       "      <td>0.396940</td>\n",
       "      <td>-0.655002</td>\n",
       "      <td>0.148893</td>\n",
       "      <td>-0.658044</td>\n",
       "      <td>...</td>\n",
       "      <td>0.080432</td>\n",
       "      <td>0.284864</td>\n",
       "      <td>-0.203693</td>\n",
       "      <td>-0.801062</td>\n",
       "      <td>0.679595</td>\n",
       "      <td>-0.080645</td>\n",
       "      <td>0.011503</td>\n",
       "      <td>-0.011727</td>\n",
       "      <td>27.000000</td>\n",
       "      <td>0</td>\n",
       "    </tr>\n",
       "    <tr>\n",
       "      <th>93318</th>\n",
       "      <td>72019.000000</td>\n",
       "      <td>-1.788876</td>\n",
       "      <td>-1.859378</td>\n",
       "      <td>2.026742</td>\n",
       "      <td>-0.226888</td>\n",
       "      <td>0.067665</td>\n",
       "      <td>-0.970044</td>\n",
       "      <td>-0.555985</td>\n",
       "      <td>0.262382</td>\n",
       "      <td>1.161360</td>\n",
       "      <td>...</td>\n",
       "      <td>0.399002</td>\n",
       "      <td>0.603280</td>\n",
       "      <td>0.637847</td>\n",
       "      <td>0.384952</td>\n",
       "      <td>-0.139771</td>\n",
       "      <td>-0.568477</td>\n",
       "      <td>0.111293</td>\n",
       "      <td>0.190594</td>\n",
       "      <td>199.100000</td>\n",
       "      <td>0</td>\n",
       "    </tr>\n",
       "    <tr>\n",
       "      <th>383574</th>\n",
       "      <td>128627.766994</td>\n",
       "      <td>0.965213</td>\n",
       "      <td>1.577598</td>\n",
       "      <td>-4.661300</td>\n",
       "      <td>3.679377</td>\n",
       "      <td>-0.090487</td>\n",
       "      <td>-0.870608</td>\n",
       "      <td>-2.227810</td>\n",
       "      <td>0.635635</td>\n",
       "      <td>-0.925183</td>\n",
       "      <td>...</td>\n",
       "      <td>0.519091</td>\n",
       "      <td>0.379933</td>\n",
       "      <td>-0.218714</td>\n",
       "      <td>0.287818</td>\n",
       "      <td>0.540852</td>\n",
       "      <td>-0.167767</td>\n",
       "      <td>0.610626</td>\n",
       "      <td>0.309138</td>\n",
       "      <td>54.742845</td>\n",
       "      <td>1</td>\n",
       "    </tr>\n",
       "    <tr>\n",
       "      <th>111431</th>\n",
       "      <td>114702.000000</td>\n",
       "      <td>-1.300980</td>\n",
       "      <td>0.210085</td>\n",
       "      <td>0.724790</td>\n",
       "      <td>-0.858554</td>\n",
       "      <td>1.923591</td>\n",
       "      <td>-1.157871</td>\n",
       "      <td>1.025614</td>\n",
       "      <td>-0.113149</td>\n",
       "      <td>-0.937659</td>\n",
       "      <td>...</td>\n",
       "      <td>0.074928</td>\n",
       "      <td>-0.011689</td>\n",
       "      <td>-0.471942</td>\n",
       "      <td>-0.285402</td>\n",
       "      <td>1.146795</td>\n",
       "      <td>0.417958</td>\n",
       "      <td>-0.108980</td>\n",
       "      <td>0.025469</td>\n",
       "      <td>13.350000</td>\n",
       "      <td>0</td>\n",
       "    </tr>\n",
       "    <tr>\n",
       "      <th>167848</th>\n",
       "      <td>96113.000000</td>\n",
       "      <td>0.141591</td>\n",
       "      <td>1.084148</td>\n",
       "      <td>-0.319930</td>\n",
       "      <td>-0.352796</td>\n",
       "      <td>1.002843</td>\n",
       "      <td>-0.752169</td>\n",
       "      <td>0.834841</td>\n",
       "      <td>-0.152249</td>\n",
       "      <td>1.329042</td>\n",
       "      <td>...</td>\n",
       "      <td>-0.503435</td>\n",
       "      <td>-1.087611</td>\n",
       "      <td>0.106978</td>\n",
       "      <td>0.396590</td>\n",
       "      <td>-0.446574</td>\n",
       "      <td>0.082246</td>\n",
       "      <td>0.190744</td>\n",
       "      <td>0.076131</td>\n",
       "      <td>4.490000</td>\n",
       "      <td>0</td>\n",
       "    </tr>\n",
       "  </tbody>\n",
       "</table>\n",
       "<p>5 rows × 31 columns</p>\n",
       "</div>"
      ],
      "text/plain": [
       "                 Time        V1        V2        V3        V4        V5  \\\n",
       "23056    78450.000000  1.345902 -0.727354 -0.055258 -0.801420 -0.394547   \n",
       "93318    72019.000000 -1.788876 -1.859378  2.026742 -0.226888  0.067665   \n",
       "383574  128627.766994  0.965213  1.577598 -4.661300  3.679377 -0.090487   \n",
       "111431  114702.000000 -1.300980  0.210085  0.724790 -0.858554  1.923591   \n",
       "167848   96113.000000  0.141591  1.084148 -0.319930 -0.352796  1.002843   \n",
       "\n",
       "              V6        V7        V8        V9  ...       V21       V22  \\\n",
       "23056   0.396940 -0.655002  0.148893 -0.658044  ...  0.080432  0.284864   \n",
       "93318  -0.970044 -0.555985  0.262382  1.161360  ...  0.399002  0.603280   \n",
       "383574 -0.870608 -2.227810  0.635635 -0.925183  ...  0.519091  0.379933   \n",
       "111431 -1.157871  1.025614 -0.113149 -0.937659  ...  0.074928 -0.011689   \n",
       "167848 -0.752169  0.834841 -0.152249  1.329042  ... -0.503435 -1.087611   \n",
       "\n",
       "             V23       V24       V25       V26       V27       V28  \\\n",
       "23056  -0.203693 -0.801062  0.679595 -0.080645  0.011503 -0.011727   \n",
       "93318   0.637847  0.384952 -0.139771 -0.568477  0.111293  0.190594   \n",
       "383574 -0.218714  0.287818  0.540852 -0.167767  0.610626  0.309138   \n",
       "111431 -0.471942 -0.285402  1.146795  0.417958 -0.108980  0.025469   \n",
       "167848  0.106978  0.396590 -0.446574  0.082246  0.190744  0.076131   \n",
       "\n",
       "            Amount  Class  \n",
       "23056    27.000000      0  \n",
       "93318   199.100000      0  \n",
       "383574   54.742845      1  \n",
       "111431   13.350000      0  \n",
       "167848    4.490000      0  \n",
       "\n",
       "[5 rows x 31 columns]"
      ]
     },
     "execution_count": 15,
     "metadata": {},
     "output_type": "execute_result"
    }
   ],
   "source": [
    "#now shuffle\n",
    "data = shuffle(concatenat)\n",
    "data.head()"
   ]
  },
  {
   "cell_type": "code",
   "execution_count": 16,
   "metadata": {},
   "outputs": [
    {
     "data": {
      "text/plain": [
       "(453184, 31)"
      ]
     },
     "execution_count": 16,
     "metadata": {},
     "output_type": "execute_result"
    }
   ],
   "source": [
    "data.shape"
   ]
  },
  {
   "cell_type": "code",
   "execution_count": 17,
   "metadata": {},
   "outputs": [
    {
     "name": "stdout",
     "output_type": "stream",
     "text": [
      "0\n"
     ]
    }
   ],
   "source": [
    "print(data.duplicated().sum()) # we don't have any dublicate value"
   ]
  },
  {
   "cell_type": "code",
   "execution_count": 18,
   "metadata": {},
   "outputs": [],
   "source": [
    "#split again\n",
    "X_train = data.drop(\"Class\",axis=\"columns\")\n",
    "Y_train = data[\"Class\"]"
   ]
  },
  {
   "cell_type": "markdown",
   "metadata": {},
   "source": [
    "# Scaling"
   ]
  },
  {
   "cell_type": "code",
   "execution_count": 19,
   "metadata": {},
   "outputs": [],
   "source": [
    "scaler = StandardScaler()\n",
    "X_train = scaler.fit_transform(X_train)\n",
    "X_test = scaler.transform(X_test)\n",
    "\n",
    "y_train = Y_train.to_numpy()\n",
    "y_test = Y_test.to_numpy()"
   ]
  },
  {
   "cell_type": "markdown",
   "metadata": {},
   "source": [
    "# Fine best model for our data"
   ]
  },
  {
   "cell_type": "code",
   "execution_count": 20,
   "metadata": {},
   "outputs": [],
   "source": [
    "import tensorflow as tf\n",
    "from tensorflow import keras\n",
    "from tensorflow.keras import layers\n",
    "from kerastuner.tuners import RandomSearch"
   ]
  },
  {
   "cell_type": "code",
   "execution_count": 21,
   "metadata": {},
   "outputs": [],
   "source": [
    "keras.backend.clear_session()\n",
    "np.random.seed(42)\n",
    "tf.random.set_seed(42)"
   ]
  },
  {
   "cell_type": "markdown",
   "metadata": {},
   "source": [
    "# kerasTuner"
   ]
  },
  {
   "cell_type": "code",
   "execution_count": 22,
   "metadata": {},
   "outputs": [],
   "source": [
    "def build_model(hp):\n",
    "    model = keras.Sequential()\n",
    "    for i in range (hp.Int(\"num_layers\",2, 10)):\n",
    "        model.add(layers.Dense(units=hp.Int('units_'+ str(i),\n",
    "                                        min_value=20,\n",
    "                                        max_value=512,\n",
    "                                        step=32),\n",
    "                           activation='relu'))\n",
    "    model.add(layers.Dense(1, activation='sigmoid'))\n",
    "    model.compile(\n",
    "        optimizer=keras.optimizers.Adam(\n",
    "            hp.Choice('learning_rate',\n",
    "                      values=[1e-2, 1e-3, 1e-4])),\n",
    "        loss='binary_crossentropy',\n",
    "        metrics=['accuracy'])\n",
    "    return model"
   ]
  },
  {
   "cell_type": "code",
   "execution_count": 23,
   "metadata": {},
   "outputs": [
    {
     "name": "stdout",
     "output_type": "stream",
     "text": [
      "INFO:tensorflow:Reloading Oracle from existing project my_dir/helloworld/oracle.json\n",
      "INFO:tensorflow:Reloading Tuner from my_dir/helloworld/tuner0.json\n"
     ]
    }
   ],
   "source": [
    "tuner = RandomSearch(\n",
    "    build_model,\n",
    "    objective='val_accuracy',\n",
    "    max_trials=5,\n",
    "    executions_per_trial=3,\n",
    "    directory='my_dir',\n",
    "    project_name='helloworld')"
   ]
  },
  {
   "cell_type": "code",
   "execution_count": 24,
   "metadata": {},
   "outputs": [
    {
     "name": "stdout",
     "output_type": "stream",
     "text": [
      "Search space summary\n",
      "Default search space size: 11\n",
      "num_layers (Int)\n",
      "{'default': None, 'conditions': [], 'min_value': 2, 'max_value': 10, 'step': 1, 'sampling': None}\n",
      "units_0 (Int)\n",
      "{'default': None, 'conditions': [], 'min_value': 20, 'max_value': 512, 'step': 32, 'sampling': None}\n",
      "units_1 (Int)\n",
      "{'default': None, 'conditions': [], 'min_value': 20, 'max_value': 512, 'step': 32, 'sampling': None}\n",
      "learning_rate (Choice)\n",
      "{'default': 0.01, 'conditions': [], 'values': [0.01, 0.001, 0.0001], 'ordered': True}\n",
      "units_2 (Int)\n",
      "{'default': None, 'conditions': [], 'min_value': 20, 'max_value': 512, 'step': 32, 'sampling': None}\n",
      "units_3 (Int)\n",
      "{'default': None, 'conditions': [], 'min_value': 20, 'max_value': 512, 'step': 32, 'sampling': None}\n",
      "units_4 (Int)\n",
      "{'default': None, 'conditions': [], 'min_value': 20, 'max_value': 512, 'step': 32, 'sampling': None}\n",
      "units_5 (Int)\n",
      "{'default': None, 'conditions': [], 'min_value': 20, 'max_value': 512, 'step': 32, 'sampling': None}\n",
      "units_6 (Int)\n",
      "{'default': None, 'conditions': [], 'min_value': 20, 'max_value': 512, 'step': 32, 'sampling': None}\n",
      "units_7 (Int)\n",
      "{'default': None, 'conditions': [], 'min_value': 20, 'max_value': 512, 'step': 32, 'sampling': None}\n",
      "units_8 (Int)\n",
      "{'default': None, 'conditions': [], 'min_value': 20, 'max_value': 512, 'step': 32, 'sampling': None}\n",
      "Results summary\n",
      "Results in my_dir/helloworld\n",
      "Showing 10 best trials\n",
      "Objective(name='val_accuracy', direction='max')\n",
      "Trial summary\n",
      "Hyperparameters:\n",
      "num_layers: 9\n",
      "units_0: 20\n",
      "units_1: 20\n",
      "learning_rate: 0.001\n",
      "units_2: 20\n",
      "units_3: 20\n",
      "units_4: 20\n",
      "units_5: 20\n",
      "units_6: 20\n",
      "units_7: 20\n",
      "units_8: 20\n",
      "Score: 0.8137442072232565\n",
      "Trial summary\n",
      "Hyperparameters:\n",
      "num_layers: 9\n",
      "units_0: 340\n",
      "units_1: 244\n",
      "learning_rate: 0.001\n",
      "units_2: 276\n",
      "units_3: 436\n",
      "units_4: 244\n",
      "units_5: 500\n",
      "units_6: 500\n",
      "units_7: 244\n",
      "units_8: 404\n",
      "Score: 0.5739745696385702\n",
      "Trial summary\n",
      "Hyperparameters:\n",
      "num_layers: 8\n",
      "units_0: 308\n",
      "units_1: 212\n",
      "learning_rate: 0.001\n",
      "units_2: 276\n",
      "units_3: 212\n",
      "units_4: 276\n",
      "units_5: 308\n",
      "units_6: 276\n",
      "units_7: 500\n",
      "units_8: 116\n",
      "Score: 0.5006895661354065\n",
      "Trial summary\n",
      "Hyperparameters:\n",
      "num_layers: 6\n",
      "units_0: 404\n",
      "units_1: 468\n",
      "learning_rate: 0.001\n",
      "units_2: 212\n",
      "units_3: 84\n",
      "units_4: 20\n",
      "units_5: 276\n",
      "units_6: 436\n",
      "units_7: 308\n",
      "units_8: 116\n",
      "Score: 0.500678539276123\n",
      "Trial summary\n",
      "Hyperparameters:\n",
      "num_layers: 8\n",
      "units_0: 52\n",
      "units_1: 372\n",
      "learning_rate: 0.001\n",
      "units_2: 500\n",
      "units_3: 404\n",
      "units_4: 180\n",
      "units_5: 308\n",
      "units_6: 372\n",
      "units_7: 116\n",
      "units_8: 52\n",
      "Score: 0.500678539276123\n"
     ]
    },
    {
     "data": {
      "text/plain": [
       "(None, None)"
      ]
     },
     "execution_count": 24,
     "metadata": {},
     "output_type": "execute_result"
    }
   ],
   "source": [
    "tuner.search_space_summary(), tuner.results_summary()"
   ]
  },
  {
   "cell_type": "code",
   "execution_count": 25,
   "metadata": {},
   "outputs": [
    {
     "name": "stdout",
     "output_type": "stream",
     "text": [
      "INFO:tensorflow:Oracle triggered exit\n"
     ]
    }
   ],
   "source": [
    "tuner.search(X_train, Y_train,\n",
    "             epochs=10,\n",
    "             validation_split = 0.2)"
   ]
  },
  {
   "cell_type": "code",
   "execution_count": 26,
   "metadata": {},
   "outputs": [],
   "source": [
    "models = tuner.get_best_models(num_models=5)"
   ]
  },
  {
   "cell_type": "code",
   "execution_count": 27,
   "metadata": {},
   "outputs": [
    {
     "data": {
      "text/plain": [
       "[<tensorflow.python.keras.engine.sequential.Sequential at 0x7fcf45131910>,\n",
       " <tensorflow.python.keras.engine.sequential.Sequential at 0x7fcf45131fd0>,\n",
       " <tensorflow.python.keras.engine.sequential.Sequential at 0x7fcf3f68c9d0>,\n",
       " <tensorflow.python.keras.engine.sequential.Sequential at 0x7fcf40530af0>,\n",
       " <tensorflow.python.keras.engine.sequential.Sequential at 0x7fcf4046d4f0>]"
      ]
     },
     "execution_count": 27,
     "metadata": {},
     "output_type": "execute_result"
    }
   ],
   "source": [
    "models"
   ]
  },
  {
   "cell_type": "code",
   "execution_count": 28,
   "metadata": {},
   "outputs": [
    {
     "name": "stdout",
     "output_type": "stream",
     "text": [
      "Results summary\n",
      "Results in my_dir/helloworld\n",
      "Showing 10 best trials\n",
      "Objective(name='val_accuracy', direction='max')\n",
      "Trial summary\n",
      "Hyperparameters:\n",
      "num_layers: 9\n",
      "units_0: 20\n",
      "units_1: 20\n",
      "learning_rate: 0.001\n",
      "units_2: 20\n",
      "units_3: 20\n",
      "units_4: 20\n",
      "units_5: 20\n",
      "units_6: 20\n",
      "units_7: 20\n",
      "units_8: 20\n",
      "Score: 0.8137442072232565\n",
      "Trial summary\n",
      "Hyperparameters:\n",
      "num_layers: 9\n",
      "units_0: 340\n",
      "units_1: 244\n",
      "learning_rate: 0.001\n",
      "units_2: 276\n",
      "units_3: 436\n",
      "units_4: 244\n",
      "units_5: 500\n",
      "units_6: 500\n",
      "units_7: 244\n",
      "units_8: 404\n",
      "Score: 0.5739745696385702\n",
      "Trial summary\n",
      "Hyperparameters:\n",
      "num_layers: 8\n",
      "units_0: 308\n",
      "units_1: 212\n",
      "learning_rate: 0.001\n",
      "units_2: 276\n",
      "units_3: 212\n",
      "units_4: 276\n",
      "units_5: 308\n",
      "units_6: 276\n",
      "units_7: 500\n",
      "units_8: 116\n",
      "Score: 0.5006895661354065\n",
      "Trial summary\n",
      "Hyperparameters:\n",
      "num_layers: 6\n",
      "units_0: 404\n",
      "units_1: 468\n",
      "learning_rate: 0.001\n",
      "units_2: 212\n",
      "units_3: 84\n",
      "units_4: 20\n",
      "units_5: 276\n",
      "units_6: 436\n",
      "units_7: 308\n",
      "units_8: 116\n",
      "Score: 0.500678539276123\n",
      "Trial summary\n",
      "Hyperparameters:\n",
      "num_layers: 8\n",
      "units_0: 52\n",
      "units_1: 372\n",
      "learning_rate: 0.001\n",
      "units_2: 500\n",
      "units_3: 404\n",
      "units_4: 180\n",
      "units_5: 308\n",
      "units_6: 372\n",
      "units_7: 116\n",
      "units_8: 52\n",
      "Score: 0.500678539276123\n"
     ]
    }
   ],
   "source": [
    "tuner.results_summary()"
   ]
  },
  {
   "cell_type": "markdown",
   "metadata": {},
   "source": [
    "# final model"
   ]
  },
  {
   "cell_type": "code",
   "execution_count": 109,
   "metadata": {},
   "outputs": [],
   "source": [
    "model = keras.Sequential()\n",
    "model.add(keras.layers.Dense(20, activation = \"elu\", kernel_initializer= 'he_normal', input_dim = X_train.shape[1]))\n",
    "model.add(keras.layers.BatchNormalization())\n",
    "model.add(keras.layers.Dense(30,activation = \"elu\", kernel_initializer= 'he_normal'))\n",
    "model.add(keras.layers.BatchNormalization())\n",
    "model.add(keras.layers.Dense(40,activation = \"elu\", kernel_initializer= 'he_normal'))\n",
    "model.add(keras.layers.BatchNormalization())\n",
    "model.add(keras.layers.Dense(10,activation = \"elu\", kernel_initializer= 'he_normal'))\n",
    "\n",
    "model.add(keras.layers.Dense(2,activation=\"softmax\"))\n",
    "\n",
    "model.compile(optimizer=keras.optimizers.Adam(lr=0.01,decay=1e-4),loss=\"sparse_categorical_crossentropy\",metrics = ['accuracy'])"
   ]
  },
  {
   "cell_type": "code",
   "execution_count": 110,
   "metadata": {},
   "outputs": [
    {
     "name": "stdout",
     "output_type": "stream",
     "text": [
      "Epoch 1/10\n",
      "2833/2833 [==============================] - 7s 2ms/step - loss: 0.0518 - accuracy: 0.9814 - val_loss: 0.0217 - val_accuracy: 0.9915\n",
      "Epoch 2/10\n",
      "2833/2833 [==============================] - 6s 2ms/step - loss: 0.0142 - accuracy: 0.9955 - val_loss: 0.0195 - val_accuracy: 0.9932\n",
      "Epoch 3/10\n",
      "2833/2833 [==============================] - 6s 2ms/step - loss: 0.0104 - accuracy: 0.9967 - val_loss: 0.0071 - val_accuracy: 0.9978\n",
      "Epoch 4/10\n",
      "2833/2833 [==============================] - 6s 2ms/step - loss: 0.0078 - accuracy: 0.9976 - val_loss: 0.0048 - val_accuracy: 0.9989\n",
      "Epoch 5/10\n",
      "2833/2833 [==============================] - 6s 2ms/step - loss: 0.0055 - accuracy: 0.9985 - val_loss: 0.0048 - val_accuracy: 0.9986\n",
      "Epoch 6/10\n",
      "2833/2833 [==============================] - 6s 2ms/step - loss: 0.0050 - accuracy: 0.9985 - val_loss: 0.0051 - val_accuracy: 0.9986\n",
      "Epoch 7/10\n",
      "2833/2833 [==============================] - 6s 2ms/step - loss: 0.0045 - accuracy: 0.9987 - val_loss: 0.0033 - val_accuracy: 0.9992\n",
      "Epoch 8/10\n",
      "2833/2833 [==============================] - 6s 2ms/step - loss: 0.0037 - accuracy: 0.9990 - val_loss: 0.0045 - val_accuracy: 0.9989\n",
      "Epoch 9/10\n",
      "2833/2833 [==============================] - 6s 2ms/step - loss: 0.0032 - accuracy: 0.9991 - val_loss: 0.0031 - val_accuracy: 0.9992\n",
      "Epoch 10/10\n",
      "2833/2833 [==============================] - 6s 2ms/step - loss: 0.0027 - accuracy: 0.9992 - val_loss: 0.0036 - val_accuracy: 0.9991\n"
     ]
    }
   ],
   "source": [
    "history = model.fit(X_train, Y_train, epochs=10, validation_split= 0.2, batch_size= 128)"
   ]
  },
  {
   "cell_type": "code",
   "execution_count": 111,
   "metadata": {},
   "outputs": [
    {
     "data": {
      "image/png": "[encoded data removed]",
      "text/plain": [
       "<Figure size 576x360 with 1 Axes>"
      ]
     },
     "metadata": {
      "needs_background": "light"
     },
     "output_type": "display_data"
    }
   ],
   "source": [
    "pd.DataFrame(history.history).plot(figsize=(8, 5))\n",
    "plt.grid(True)\n",
    "plt.show()"
   ]
  },
  {
   "cell_type": "code",
   "execution_count": 112,
   "metadata": {},
   "outputs": [],
   "source": [
    "from sklearn.metrics import confusion_matrix, accuracy_score, classification_report"
   ]
  },
  {
   "cell_type": "code",
   "execution_count": 113,
   "metadata": {},
   "outputs": [],
   "source": [
    "pred_y = model.predict(X_test)"
   ]
  },
  {
   "cell_type": "code",
   "execution_count": 114,
   "metadata": {},
   "outputs": [
    {
     "data": {
      "text/plain": [
       "array([[1.0000000e+00, 1.0834551e-10],\n",
       "       [9.9998844e-01, 1.1592873e-05],\n",
       "       [1.0000000e+00, 6.7763096e-16],\n",
       "       ...,\n",
       "       [1.0000000e+00, 5.6161083e-12],\n",
       "       [1.0000000e+00, 2.1195534e-15],\n",
       "       [1.0000000e+00, 1.2965905e-09]], dtype=float32)"
      ]
     },
     "execution_count": 114,
     "metadata": {},
     "output_type": "execute_result"
    }
   ],
   "source": [
    "pred_y"
   ]
  },
  {
   "cell_type": "code",
   "execution_count": 115,
   "metadata": {},
   "outputs": [
    {
     "data": {
      "text/plain": [
       "0    56649\n",
       "1       94\n",
       "Name: Class, dtype: int64"
      ]
     },
     "execution_count": 115,
     "metadata": {},
     "output_type": "execute_result"
    }
   ],
   "source": [
    "Y_test.value_counts()"
   ]
  },
  {
   "cell_type": "code",
   "execution_count": 116,
   "metadata": {},
   "outputs": [],
   "source": [
    "rounded_prediction= np.argmax(pred_y,axis=1)"
   ]
  },
  {
   "cell_type": "code",
   "execution_count": 117,
   "metadata": {},
   "outputs": [
    {
     "data": {
      "text/plain": [
       "array([0, 0, 0, ..., 0, 0, 0])"
      ]
     },
     "execution_count": 117,
     "metadata": {},
     "output_type": "execute_result"
    }
   ],
   "source": [
    "rounded_prediction"
   ]
  },
  {
   "cell_type": "code",
   "execution_count": 118,
   "metadata": {},
   "outputs": [
    {
     "data": {
      "text/plain": [
       "array([[56649,     0],\n",
       "       [    0,    94]])"
      ]
     },
     "execution_count": 118,
     "metadata": {},
     "output_type": "execute_result"
    }
   ],
   "source": [
    "cm= confusion_matrix(Y_test,Y_test)\n",
    "cm"
   ]
  },
  {
   "cell_type": "code",
   "execution_count": 119,
   "metadata": {},
   "outputs": [
    {
     "data": {
      "text/plain": [
       "array([[56540,    19],\n",
       "       [  109,    75]])"
      ]
     },
     "execution_count": 119,
     "metadata": {},
     "output_type": "execute_result"
    }
   ],
   "source": [
    "cm= confusion_matrix(rounded_prediction,Y_test)\n",
    "cm"
   ]
  },
  {
   "cell_type": "code",
   "execution_count": 120,
   "metadata": {},
   "outputs": [],
   "source": [
    "import itertools\n",
    "def plot_confusion_matrix(cm, classes,\n",
    "                        normalize=False,\n",
    "                        title='Confusion matrix',\n",
    "                        cmap=plt.cm.Blues):\n",
    "    \"\"\"\n",
    "    This function prints and plots the confusion matrix.\n",
    "    Normalization can be applied by setting `normalize=True`.\n",
    "    \"\"\"\n",
    "    plt.imshow(cm, interpolation='nearest', cmap=cmap)\n",
    "    plt.title(title)\n",
    "    plt.colorbar()\n",
    "    tick_marks = np.arange(len(classes))\n",
    "    plt.xticks(tick_marks, classes, rotation=45)\n",
    "    plt.yticks(tick_marks, classes)\n",
    "\n",
    "    if normalize:\n",
    "        cm = cm.astype('float') / cm.sum(axis=1)[:, np.newaxis]\n",
    "        print(\"Normalized confusion matrix\")\n",
    "    else:\n",
    "        print('Confusion matrix, without normalization')\n",
    "\n",
    "    print(cm)\n",
    "\n",
    "    thresh = cm.max() / 2.\n",
    "    for i, j in itertools.product(range(cm.shape[0]), range(cm.shape[1])):\n",
    "        plt.text(j, i, cm[i, j],\n",
    "            horizontalalignment=\"center\",\n",
    "            color=\"white\" if cm[i, j] > thresh else \"black\")\n",
    "\n",
    "    plt.tight_layout()\n",
    "    plt.ylabel('True label')\n",
    "    plt.xlabel('Predicted label')"
   ]
  },
  {
   "cell_type": "code",
   "execution_count": 121,
   "metadata": {},
   "outputs": [
    {
     "name": "stdout",
     "output_type": "stream",
     "text": [
      "Confusion matrix, without normalization\n",
      "[[56540    19]\n",
      " [  109    75]]\n"
     ]
    },
    {
     "data": {
      "image/png": "[encoded data removed]",
      "text/plain": [
       "<Figure size 432x288 with 2 Axes>"
      ]
     },
     "metadata": {
      "needs_background": "light"
     },
     "output_type": "display_data"
    }
   ],
   "source": [
    "cm_plot_labels = ['normal','fraud']\n",
    "\n",
    "\n",
    "plot_confusion_matrix(cm=cm, classes=cm_plot_labels, title='Confusion Matrix')\n"
   ]
  },
  {
   "cell_type": "code",
   "execution_count": 122,
   "metadata": {},
   "outputs": [
    {
     "name": "stdout",
     "output_type": "stream",
     "text": [
      "              precision    recall  f1-score   support\n",
      "\n",
      "           0       1.00      1.00      1.00     56559\n",
      "           1       0.80      0.41      0.54       184\n",
      "\n",
      "    accuracy                           1.00     56743\n",
      "   macro avg       0.90      0.70      0.77     56743\n",
      "weighted avg       1.00      1.00      1.00     56743\n",
      "\n"
     ]
    }
   ],
   "source": [
    "print(classification_report(rounded_prediction,Y_test))"
   ]
  },
  {
   "cell_type": "code",
   "execution_count": 123,
   "metadata": {},
   "outputs": [],
   "source": [
    "model.save(\"credit.h5\")"
   ]
  },
  {
   "cell_type": "code",
   "execution_count": null,
   "metadata": {},
   "outputs": [],
   "source": []
  }
 ],
 "metadata": {
  "kernelspec": {
   "display_name": "Python 3",
   "language": "python",
   "name": "python3"
  },
  "language_info": {
   "codemirror_mode": {
    "name": "ipython",
    "version": 3
   },
   "file_extension": ".py",
   "mimetype": "text/x-python",
   "name": "python",
   "nbconvert_exporter": "python",
   "pygments_lexer": "ipython3",
   "version": "3.8.5"
  }
 },
 "nbformat": 4,
 "nbformat_minor": 4
}
